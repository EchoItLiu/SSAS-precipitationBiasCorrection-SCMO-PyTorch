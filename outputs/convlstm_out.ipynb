{
 "cells": [
  {
   "cell_type": "code",
   "execution_count": 8,
   "metadata": {},
   "outputs": [
    {
     "ename": "SyntaxError",
     "evalue": "invalid syntax (<string>, line 1)",
     "output_type": "error",
     "traceback": [
      "Traceback \u001b[0;36m(most recent call last)\u001b[0m:\n",
      "  File \u001b[1;32m\"/home/yqliu/anaconda3/lib/python3.6/site-packages/IPython/core/interactiveshell.py\"\u001b[0m, line \u001b[1;32m2910\u001b[0m, in \u001b[1;35mrun_code\u001b[0m\n    exec(code_obj, self.user_global_ns, self.user_ns)\n",
      "\u001b[0;36m  File \u001b[0;32m\"<ipython-input-8-62d891e904b7>\"\u001b[0;36m, line \u001b[0;32m10\u001b[0;36m, in \u001b[0;35m<module>\u001b[0;36m\u001b[0m\n\u001b[0;31m    dic1 = eval(f1.read())   #读取的str转换为字典1\u001b[0m\n",
      "\u001b[0;36m  File \u001b[0;32m\"<string>\"\u001b[0;36m, line \u001b[0;32m1\u001b[0m\n\u001b[0;31m    {'MAE': 3.2779462, 'MPAE': 5.17987, 'Ts0.1': 0.21773, 'Ts1:': 0.17921, 'Ts10:': 0.30556}{'MAE': 3.0871619, 'MPAE': 4.72096, 'Ts0.1': 0.21773, 'Ts1:': 0.17631, 'Ts10:': 0.31367}{'MAE': 2.449148, 'MPAE': 4.5175, 'Ts0.1': 0.21773, 'Ts1:': 0.20264, 'Ts10:': 0.3138}{'MAE': 2.8162668, 'MPAE': 4.77279, 'Ts0.1': 0.21938, 'Ts1:': 0.22438, 'Ts10:': 0.3147}{'MAE': 2.3112965, 'MPAE': 4.27405, 'Ts0.1': 0.21749, 'Ts1:': 0.21362, 'Ts10:': 0.3352}{'MAE': 1.922327, 'MPAE': 4.01629, 'Ts0.1': 0.21742, 'Ts1:': 0.2761, 'Ts10:': 0.30979}{'MAE': 2.9530195, 'MPAE': 4.97509, 'Ts0.1': 0.21851, 'Ts1:': 0.21932, 'Ts10:': 0.28933}{'MAE': 3.4221306, 'MPAE': 5.70966, 'Ts0.1': 0.22356, 'Ts1:': 0.20498, 'Ts10:': 0.27885}\u001b[0m\n\u001b[0m                                                                                            ^\u001b[0m\n\u001b[0;31mSyntaxError\u001b[0m\u001b[0;31m:\u001b[0m invalid syntax\n"
     ]
    }
   ],
   "source": [
    "import numpy as np\n",
    "import os\n",
    "\n",
    "path1 = os.path.join('/mnt/pami23/yqliu/out_convlstm', 'out1.txt')\n",
    "# path2 = os.path.join('mnt/pami23/yqliu/out_convlstm', 'out2.txt')\n",
    "\n",
    "f1 = open(path1,'r+')\n",
    "# f2 = open(path2,'r')\n",
    "\n",
    "dic1 = eval(f1.read())   #读取的str转换为字典1\n",
    "# dic2 = eval(f2.read())   #读取的str转换为字典2\n",
    "\n",
    "print('convlstm_results1:', dic1)\n",
    "# print('convlstm_results2:', dic2)\n",
    "\n",
    "f1.close()\n",
    "# f2.close()\n",
    "\n"
   ]
  },
  {
   "cell_type": "code",
   "execution_count": 6,
   "metadata": {},
   "outputs": [],
   "source": [
    "import os\n",
    "\n",
    "info = {\"MAE\": 1,\n",
    "        \"MPAE\": 2,\n",
    "        \"Ts0.1\": 3,\n",
    "        \"Ts1:\": 4,\n",
    "        \"Ts10:\": 5,\n",
    "        }\n",
    "\n",
    "f1 = open(os.path.join('/mnt/pami23/yqliu/out_convlstm', 'out1.txt'), 'a')\n",
    "\n",
    "f1.write(str(info))\n",
    "\n",
    "f1.close()\n",
    "\n"
   ]
  },
  {
   "cell_type": "code",
   "execution_count": 9,
   "metadata": {},
   "outputs": [
    {
     "name": "stdout",
     "output_type": "stream",
     "text": [
      "[[[0.75994528 0.93823614 0.03171427 0.47102889 0.34379538 0.35496557]]\n",
      "\n",
      " [[0.92416772 0.48422442 0.24866773 0.68350725 0.26867376 0.7812961 ]]\n",
      "\n",
      " [[0.20938509 0.21732796 0.22567346 0.22969697 0.11914355 0.1704556 ]]]\n",
      "(3, 1, 6)\n",
      "[[[0.35777547 0.84582326 0.99389965 0.03995152 0.80050426 0.84724305]]\n",
      "\n",
      " [[0.61960279 0.07969163 0.79062334 0.54945546 0.82530947 0.78412662]]\n",
      "\n",
      " [[0.13362745 0.77559372 0.80969737 0.34673847 0.49008645 0.20668972]]]\n",
      "(3, 1, 6)\n",
      "[[[0.75994528 0.93823614 0.03171427 0.47102889 0.34379538 0.35496557]\n",
      "  [0.35777547 0.84582326 0.99389965 0.03995152 0.80050426 0.84724305]]\n",
      "\n",
      " [[0.92416772 0.48422442 0.24866773 0.68350725 0.26867376 0.7812961 ]\n",
      "  [0.61960279 0.07969163 0.79062334 0.54945546 0.82530947 0.78412662]]\n",
      "\n",
      " [[0.20938509 0.21732796 0.22567346 0.22969697 0.11914355 0.1704556 ]\n",
      "  [0.13362745 0.77559372 0.80969737 0.34673847 0.49008645 0.20668972]]]\n",
      "(3, 2, 6)\n"
     ]
    }
   ],
   "source": [
    "import numpy as np\n",
    "\n",
    "a = np.random.rand(3,5,6)\n",
    "\n",
    "a1 = a[:,0:1,:]\n",
    "print (a1)\n",
    "print (a1.shape)\n",
    "\n",
    "a2 = a[:,3:4,:]\n",
    "print (a2)\n",
    "print (a2.shape)\n",
    "\n",
    "aa = np.concatenate((a1,a2),1)\n",
    "\n",
    "print (aa)\n",
    "print (aa.shape)\n",
    "\n"
   ]
  },
  {
   "cell_type": "code",
   "execution_count": 11,
   "metadata": {},
   "outputs": [
    {
     "name": "stdout",
     "output_type": "stream",
     "text": [
      "[[0.66497613 0.23492453 0.94465049 0.26890658 0.73690932]\n",
      " [0.62387354 0.73566608 0.67037753 0.73838259 0.36324701]\n",
      " [0.09988559 0.54601432 0.2883985  0.66309629 0.60327111]]\n",
      "(2, 5)\n",
      "[[0.62387354 0.73566608 0.67037753 0.73838259 0.36324701]\n",
      " [0.09988559 0.54601432 0.2883985  0.66309629 0.60327111]]\n"
     ]
    }
   ],
   "source": [
    "b = np.random.rand(3,5)\n",
    "print (b)\n",
    "\n",
    "\n",
    "bb = b[1:]\n",
    "\n",
    "print (bb.shape)\n",
    "print (bb)\n"
   ]
  },
  {
   "cell_type": "code",
   "execution_count": null,
   "metadata": {},
   "outputs": [],
   "source": [
    "import numpy as np\n",
    "\n",
    "cand_l = []\n",
    "for cand_e in candi_set:\n",
    "    cand = select_strategy(cand_e.T)\n",
    "    cand_l.append(cand)\n",
    "    \n",
    "# 不要用concatenate或者stack\n",
    "        \n",
    "        "
   ]
  }
 ],
 "metadata": {
  "kernelspec": {
   "display_name": "Python 3",
   "language": "python",
   "name": "python3"
  },
  "language_info": {
   "codemirror_mode": {
    "name": "ipython",
    "version": 3
   },
   "file_extension": ".py",
   "mimetype": "text/x-python",
   "name": "python",
   "nbconvert_exporter": "python",
   "pygments_lexer": "ipython3",
   "version": "3.6.7"
  }
 },
 "nbformat": 4,
 "nbformat_minor": 4
}
